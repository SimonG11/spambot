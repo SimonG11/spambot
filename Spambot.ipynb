{
 "cells": [
  {
   "cell_type": "code",
   "execution_count": 1,
   "id": "e6ba13d7",
   "metadata": {},
   "outputs": [],
   "source": [
    "import numpy as np\n",
    "import pandas as pd\n",
    "from sklearn.model_selection import StratifiedKFold, train_test_split, cross_validate\n",
    "from sklearn.metrics import accuracy_score, f1_score\n",
    "from time import time"
   ]
  },
  {
   "cell_type": "code",
   "execution_count": 2,
   "id": "cde2aef1",
   "metadata": {},
   "outputs": [],
   "source": [
    "# Path to the .names file\n",
    "spambase_names_path = 'spambase.names'\n",
    "\n",
    "# Function to read and extract feature names from the .names file\n",
    "def extract_feature_names(file_path):\n",
    "    with open(file_path, 'r') as file:\n",
    "        # Skip the first 33 lines and start reading from line 34\n",
    "        lines = file.readlines()[33:]\n",
    "    # Extract feature names from the file content\n",
    "    feature_names = []\n",
    "    for line in lines:\n",
    "        if ':' in line:\n",
    "            name = line.split(':')[0]\n",
    "            feature_names.append(name)\n",
    "    return feature_names\n",
    "\n",
    "# Adding names\n",
    "feature_names = extract_feature_names(spambase_names_path)\n",
    "feature_names.append('is_spam')  # Adding the class label since it is not defined as the last column name\n",
    "\n",
    "# Load the dataset with names\n",
    "spambase_data_path = 'spambase.data'\n",
    "data = pd.read_csv(spambase_data_path, names=feature_names)\n",
    "\n",
    "# Separate X and y\n",
    "X = data.drop('is_spam', axis=1)\n",
    "y = data['is_spam']\n"
   ]
  },
  {
   "cell_type": "code",
   "execution_count": 3,
   "id": "1bd117b8",
   "metadata": {},
   "outputs": [],
   "source": [
    "# Split the data into training and testing sets\n",
    "X_train, X_test, y_train, y_test = train_test_split(X, y, test_size=0.2, stratify=y, random_state=42)"
   ]
  },
  {
   "cell_type": "code",
   "execution_count": 4,
   "id": "61b30555",
   "metadata": {},
   "outputs": [],
   "source": [
    "from sklearn.tree import DecisionTreeClassifier\n",
    "from sklearn.ensemble import RandomForestClassifier, GradientBoostingClassifier\n",
    "from sklearn.naive_bayes import GaussianNB\n",
    "\n",
    "classifiers = {\n",
    "    \"Random Forest\": RandomForestClassifier(n_estimators=100, max_features='sqrt'),\n",
    "    \"Naive Bayes\": GaussianNB(),\n",
    "    \"Gradient Boosting\": GradientBoostingClassifier(n_estimators=100, learning_rate=0.1, max_depth=3)\n",
    "}\n"
   ]
  },
  {
   "cell_type": "code",
   "execution_count": 5,
   "id": "f180a316",
   "metadata": {},
   "outputs": [],
   "source": [
    "# Stratified K-Fold\n",
    "skf = StratifiedKFold(n_splits=10)"
   ]
  },
  {
   "cell_type": "code",
   "execution_count": 6,
   "id": "fc1bab37",
   "metadata": {},
   "outputs": [],
   "source": [
    "# Define metrics to compute\n",
    "scoring = ['accuracy', 'f1']\n",
    "\n",
    "# Initialize a dictionary to store all results\n",
    "results = {'Accuracy': {name: [] for name in classifiers.keys()},\n",
    "           'F-Measure': {name: [] for name in classifiers.keys()},\n",
    "           'Training Time': {name: [] for name in classifiers.keys()}}\n",
    "\n",
    "# Perform cross-validation for each classifier\n",
    "for name, clf in classifiers.items():\n",
    "    cv_results = cross_validate(clf, X_train, y_train, cv=skf, scoring=scoring, return_train_score=False, n_jobs=-1)\n",
    "\n",
    "    # Append the results for each fold to the results dictionary\n",
    "    results['Accuracy'][name] = cv_results['test_accuracy']\n",
    "    results['F-Measure'][name] = cv_results['test_f1']\n",
    "    results['Training Time'][name] = cv_results['fit_time']\n",
    "\n",
    "# Convert results for each metric into a DataFrame\n",
    "for metric in results:\n",
    "    results[metric] = pd.DataFrame(results[metric])"
   ]
  },
  {
   "cell_type": "code",
   "execution_count": 7,
   "id": "2e39dbc4",
   "metadata": {},
   "outputs": [],
   "source": [
    "# Calculate mean and standard deviation for each classifier in each metric\n",
    "final_results = {}\n",
    "for metric, df in results.items():\n",
    "    means = df.mean(axis=0).rename('Mean')\n",
    "    stds = df.std(axis=0).rename('Std')\n",
    "    final_results[metric] = pd.concat([means, stds], axis=1)\n"
   ]
  },
  {
   "cell_type": "code",
   "execution_count": 8,
   "id": "97507e1f",
   "metadata": {},
   "outputs": [
    {
     "name": "stdout",
     "output_type": "stream",
     "text": [
      "Accuracy without Ranks:\n",
      "-------------------------------------------------------\n",
      "    Random Forest  Naive Bayes  Gradient Boosting\n",
      "-------------------------------------------------------\n",
      "0   0.970109  0.880435  0.967391\n",
      "1   0.975543  0.804348  0.972826\n",
      "2   0.959239  0.796196  0.951087\n",
      "3   0.959239  0.823370  0.956522\n",
      "4   0.959239  0.807065  0.951087\n",
      "5   0.948370  0.815217  0.940217\n",
      "6   0.926630  0.807065  0.921196\n",
      "7   0.951087  0.826087  0.921196\n",
      "8   0.953804  0.823370  0.942935\n",
      "9   0.948370  0.820652  0.932065\n",
      "-------------------------------------------------------\n",
      "mean 0.955163  0.820380  0.945652\n",
      "std 0.013389  0.023286  0.017657\n",
      "-------------------------------------------------------\n",
      "\n",
      "F-Measure without Ranks:\n",
      "-------------------------------------------------------\n",
      "    Random Forest  Naive Bayes  Gradient Boosting\n",
      "-------------------------------------------------------\n",
      "0   0.961938  0.865031  0.958621\n",
      "1   0.968641  0.796610  0.965035\n",
      "2   0.946996  0.787535  0.937063\n",
      "3   0.947735  0.811594  0.944056\n",
      "4   0.948454  0.791789  0.937063\n",
      "5   0.934708  0.806818  0.924658\n",
      "6   0.905263  0.793003  0.899654\n",
      "7   0.935714  0.809524  0.894545\n",
      "8   0.939929  0.807122  0.925795\n",
      "9   0.932384  0.805882  0.911661\n",
      "-------------------------------------------------------\n",
      "mean 0.942176  0.807491  0.929815\n",
      "std 0.017466  0.021879  0.023343\n",
      "-------------------------------------------------------\n",
      "\n",
      "Training Time without Ranks:\n",
      "-------------------------------------------------------\n",
      "    Random Forest  Naive Bayes  Gradient Boosting\n",
      "-------------------------------------------------------\n",
      "0   0.438135  0.003478  1.128829\n",
      "1   0.448916  0.003380  1.133061\n",
      "2   0.430084  0.003727  1.142373\n",
      "3   0.429461  0.003625  1.166257\n",
      "4   0.418307  0.005110  1.155601\n",
      "5   0.435242  0.005689  1.123110\n",
      "6   0.409036  0.004738  1.163583\n",
      "7   0.422212  0.004204  1.135978\n",
      "8   0.312538  0.003215  0.839327\n",
      "9   0.319953  0.002884  0.845062\n",
      "-------------------------------------------------------\n",
      "mean 0.406388  0.004005  1.083318\n",
      "std 0.048787  0.000907  0.127903\n",
      "-------------------------------------------------------\n",
      "\n"
     ]
    }
   ],
   "source": [
    "# Now, to print the results in the desired format\n",
    "for metric in results:\n",
    "    print(f\"{metric} without Ranks:\")\n",
    "    print('-'*55)\n",
    "    \n",
    "    # Print the classifier names\n",
    "    classifier_names = results[metric].columns\n",
    "    print('   ', '  '.join(classifier_names))\n",
    "    print('-'*55)\n",
    "    \n",
    "    # Print each row of data (for each fold)\n",
    "    for index in range(len(results[metric])):\n",
    "        row_data = [results[metric][classifier].iloc[index] for classifier in classifier_names]\n",
    "        print(f\"{index:<3}\", '  '.join(f\"{val:.6f}\" for val in row_data))\n",
    "    \n",
    "    print('-'*55)\n",
    "\n",
    "    # Calculate and print mean and std for each classifier\n",
    "    means = results[metric].mean()\n",
    "    stds = results[metric].std()\n",
    "\n",
    "    print(\"mean\", '  '.join(f\"{means[name]:.6f}\" for name in classifier_names))\n",
    "    print(\"std\", '  '.join(f\"{stds[name]:.6f}\" for name in classifier_names))\n",
    "    print('-'*55)\n",
    "    print()\n"
   ]
  },
  {
   "cell_type": "code",
   "execution_count": 9,
   "id": "c95fe685",
   "metadata": {},
   "outputs": [],
   "source": [
    "# Update the results DataFrame with ranks for each fold\n",
    "for metric, df in results.items():\n",
    "    ascending = True if metric == 'Training Time' else False\n",
    "    ranks = df.rank(axis=1, ascending=ascending)\n",
    "    \n",
    "    ranked_df = df.copy()\n",
    "    for col in ranked_df.columns:\n",
    "        ranked_df[col] = ranked_df[col].round(6).astype(str) + \" (\" + ranks[col].astype(int).astype(str) + \")\"\n",
    "    \n",
    "    results[metric] = ranked_df\n"
   ]
  },
  {
   "cell_type": "code",
   "execution_count": 10,
   "id": "3da7a4d8",
   "metadata": {},
   "outputs": [
    {
     "name": "stdout",
     "output_type": "stream",
     "text": [
      "Accuracy with Ranks:\n",
      "-------------------------------------------------------\n",
      "   Random Forest  Naive Bayes  Gradient Boosting\n",
      "-------------------------------------------------------\n",
      "0 0.970109 (1)  0.880435 (3)  0.967391 (2)\n",
      "1 0.975543 (1)  0.804348 (3)  0.972826 (2)\n",
      "2 0.959239 (1)  0.796196 (3)  0.951087 (2)\n",
      "3 0.959239 (1)  0.82337 (3)  0.956522 (2)\n",
      "4 0.959239 (1)  0.807065 (3)  0.951087 (2)\n",
      "5 0.94837 (1)  0.815217 (3)  0.940217 (2)\n",
      "6 0.92663 (1)  0.807065 (3)  0.921196 (2)\n",
      "7 0.951087 (1)  0.826087 (3)  0.921196 (2)\n",
      "8 0.953804 (1)  0.82337 (3)  0.942935 (2)\n",
      "9 0.94837 (1)  0.820652 (3)  0.932065 (2)\n",
      "-------------------------------------------------------\n",
      "Average Rank 1.0  3.0  2.0\n",
      "\n",
      "F-Measure with Ranks:\n",
      "-------------------------------------------------------\n",
      "   Random Forest  Naive Bayes  Gradient Boosting\n",
      "-------------------------------------------------------\n",
      "0 0.961938 (1)  0.865031 (3)  0.958621 (2)\n",
      "1 0.968641 (1)  0.79661 (3)  0.965035 (2)\n",
      "2 0.946996 (1)  0.787535 (3)  0.937063 (2)\n",
      "3 0.947735 (1)  0.811594 (3)  0.944056 (2)\n",
      "4 0.948454 (1)  0.791789 (3)  0.937063 (2)\n",
      "5 0.934708 (1)  0.806818 (3)  0.924658 (2)\n",
      "6 0.905263 (1)  0.793003 (3)  0.899654 (2)\n",
      "7 0.935714 (1)  0.809524 (3)  0.894545 (2)\n",
      "8 0.939929 (1)  0.807122 (3)  0.925795 (2)\n",
      "9 0.932384 (1)  0.805882 (3)  0.911661 (2)\n",
      "-------------------------------------------------------\n",
      "Average Rank 1.0  3.0  2.0\n",
      "\n",
      "Training Time with Ranks:\n",
      "-------------------------------------------------------\n",
      "   Random Forest  Naive Bayes  Gradient Boosting\n",
      "-------------------------------------------------------\n",
      "0 0.438135 (2)  0.003478 (1)  1.128829 (3)\n",
      "1 0.448916 (2)  0.00338 (1)  1.133061 (3)\n",
      "2 0.430084 (2)  0.003727 (1)  1.142373 (3)\n",
      "3 0.429461 (2)  0.003625 (1)  1.166257 (3)\n",
      "4 0.418307 (2)  0.00511 (1)  1.155601 (3)\n",
      "5 0.435242 (2)  0.005689 (1)  1.12311 (3)\n",
      "6 0.409036 (2)  0.004738 (1)  1.163583 (3)\n",
      "7 0.422212 (2)  0.004204 (1)  1.135978 (3)\n",
      "8 0.312538 (2)  0.003215 (1)  0.839327 (3)\n",
      "9 0.319953 (2)  0.002884 (1)  0.845062 (3)\n",
      "-------------------------------------------------------\n",
      "Average Rank 2.0  1.0  3.0\n",
      "\n"
     ]
    },
    {
     "name": "stderr",
     "output_type": "stream",
     "text": [
      "/var/folders/y8/qf4y__nx4_qdp9d81sgjvfjm0000gn/T/ipykernel_84059/1923718475.py:21: FutureWarning: DataFrame.applymap has been deprecated. Use DataFrame.map instead.\n",
      "  avg_ranks = df.applymap(lambda x: int(x.split('(')[1].replace(')', ''))).mean(axis=0)\n"
     ]
    }
   ],
   "source": [
    "# Your existing code for updating the results DataFrame with ranks...\n",
    "\n",
    "# Print the results with ranks and calculate average ranks\n",
    "for metric, df in results.items():\n",
    "    print(f\"{metric} with Ranks:\")\n",
    "    print('-'*55)\n",
    "    \n",
    "    # Print the classifier names\n",
    "    classifier_names = df.columns\n",
    "    print('  ', '  '.join(classifier_names))\n",
    "    print('-'*55)\n",
    "    \n",
    "    # Print each row of data with ranks\n",
    "    for index, row in df.iterrows():\n",
    "        formatted_row = [f\"{value}\" for value in row]\n",
    "        print(index, '  '.join(formatted_row))\n",
    "    \n",
    "    print('-'*55)\n",
    "\n",
    "    # Calculate and print average rank for each classifier\n",
    "    avg_ranks = df.applymap(lambda x: int(x.split('(')[1].replace(')', ''))).mean(axis=0)\n",
    "    print(\"Average Rank\", '  '.join(f\"{avg_ranks[name]:.1f}\" for name in classifier_names))\n",
    "    print()\n"
   ]
  },
  {
   "cell_type": "code",
   "execution_count": 11,
   "id": "10ec03fe",
   "metadata": {},
   "outputs": [
    {
     "name": "stdout",
     "output_type": "stream",
     "text": [
      "Friedman Statistic and Degrees of Freedom for Each Metric:\n",
      "Accuracy: Chi2 = 11.000000000000014, df = 2\n",
      "F-Measure: Chi2 = 13.299999999999983, df = 2\n",
      "Training Time: Chi2 = 20.0, df = 2\n"
     ]
    }
   ],
   "source": [
    "def friedman_statistic(avg_ranks, N, k):\n",
    "    # Calculation of Friedman statistic\n",
    "    sum_of_squares = np.sum(avg_ranks ** 2)\n",
    "    chi2 = (12 * N / (k * (k + 1))) * (sum_of_squares - (k * (k + 1) ** 2 / 4))\n",
    "    degrees_of_freedom = k - 1\n",
    "\n",
    "    return chi2, degrees_of_freedom\n",
    "\n",
    "# Usage of the function\n",
    "N = 10  # Number of datasets (folds)\n",
    "k = 3   # Number of algorithms\n",
    "\n",
    "avg_ranks_accuracy = np.array([1.1, 3, 1.7])  # Accuracy\n",
    "avg_ranks_fmeasure = np.array([1.2, 3.0, 1.7])  # F-Measure\n",
    "avg_ranks_training_time = np.array([2.0, 1.0, 3.0])  # Training Time\n",
    "\n",
    "chi2_accuracy, df_accuracy = friedman_statistic(avg_ranks_accuracy, N, k)\n",
    "chi2_fmeasure, df_fmeasure = friedman_statistic(avg_ranks_fmeasure, N, k)\n",
    "chi2_training_time, df_training_time = friedman_statistic(avg_ranks_training_time, N, k)\n",
    "\n",
    "print(\"Friedman Statistic and Degrees of Freedom for Each Metric:\")\n",
    "print(f\"Accuracy: Chi2 = {chi2_accuracy}, df = {df_accuracy}\")\n",
    "print(f\"F-Measure: Chi2 = {chi2_fmeasure}, df = {df_fmeasure}\")\n",
    "print(f\"Training Time: Chi2 = {chi2_training_time}, df = {df_training_time}\")\n"
   ]
  },
  {
   "cell_type": "code",
   "execution_count": 16,
   "id": "969c38d0",
   "metadata": {},
   "outputs": [
    {
     "name": "stdout",
     "output_type": "stream",
     "text": [
      "Significance and Critical Differences for Each Metric:\n",
      "Accuracy: Significance = True, Critical Difference = 1.0478214542564015\n",
      "F-Measure: Significance = True, Critical Difference = 1.0478214542564015\n",
      "Training Time: Significance= True, Critical Difference = 1.0478214542564015\n"
     ]
    }
   ],
   "source": [
    "def is_significant(chi2_statistic, df):\n",
    "    critical_value = 7.8\n",
    "    return chi2_statistic > critical_value\n",
    "\n",
    "def nemenyi_critical_difference(N, k, alpha=0.05):\n",
    "    # Critical value q_alpha \n",
    "    q_alpha = 2.343  # From 12.3 How to interpret it, \"Post-Hoc test I\" \n",
    "    return q_alpha * np.sqrt((k * (k + 1)) / (6 * N))\n",
    "\n",
    "\n",
    "# Check significance for each metric and calculate critical differences if significant\n",
    "significance_accuracy = is_significant(chi2_accuracy, df_accuracy)\n",
    "significance_fmeasure = is_significant(chi2_fmeasure, df_fmeasure)\n",
    "significance_training_time = is_significant(chi2_training_time, df_training_time)\n",
    "\n",
    "cd_accuracy = nemenyi_critical_difference(N, k) if significance_accuracy else None\n",
    "cd_fmeasure = nemenyi_critical_difference(N, k) if significance_fmeasure else None\n",
    "cd_training_time = nemenyi_critical_difference(N, k) if significance_training_time else None\n",
    "\n",
    "# Print results\n",
    "print(\"Significance and Critical Differences for Each Metric:\")\n",
    "print(f\"Accuracy: Significance = {significance_accuracy}, Critical Difference = {cd_accuracy}\")\n",
    "print(f\"F-Measure: Significance = {significance_fmeasure}, Critical Difference = {cd_fmeasure}\")\n",
    "print(f\"Training Time: Significance= {significance_training_time}, Critical Difference = {cd_training_time}\")\n"
   ]
  },
  {
   "cell_type": "code",
   "execution_count": null,
   "id": "573a8fe9",
   "metadata": {},
   "outputs": [],
   "source": [
    "stest"
   ]
  },
  {
   "cell_type": "code",
   "execution_count": null,
   "id": "daac51e1",
   "metadata": {},
   "outputs": [],
   "source": []
  },
  {
   "cell_type": "code",
   "execution_count": null,
   "id": "0cdd2220",
   "metadata": {},
   "outputs": [],
   "source": []
  },
  {
   "cell_type": "code",
   "execution_count": null,
   "id": "70ac31cb",
   "metadata": {},
   "outputs": [],
   "source": []
  },
  {
   "cell_type": "code",
   "execution_count": null,
   "id": "c783ff5d",
   "metadata": {},
   "outputs": [],
   "source": []
  },
  {
   "cell_type": "code",
   "execution_count": null,
   "id": "72cefa94",
   "metadata": {},
   "outputs": [],
   "source": []
  }
 ],
 "metadata": {
  "kernelspec": {
   "display_name": "Python 3 (ipykernel)",
   "language": "python",
   "name": "python3"
  },
  "language_info": {
   "codemirror_mode": {
    "name": "ipython",
    "version": 3
   },
   "file_extension": ".py",
   "mimetype": "text/x-python",
   "name": "python",
   "nbconvert_exporter": "python",
   "pygments_lexer": "ipython3",
   "version": "3.11.5"
  }
 },
 "nbformat": 4,
 "nbformat_minor": 5
}
